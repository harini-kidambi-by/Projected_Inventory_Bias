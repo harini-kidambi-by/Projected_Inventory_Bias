{
 "cells": [
  {
   "cell_type": "code",
   "execution_count": 4,
   "id": "0b79630b",
   "metadata": {},
   "outputs": [],
   "source": [
    "import pyodbc\n",
    "import pandas as pd\n",
    "import numpy as np\n",
    "import scipy.stats as stats\n",
    "from scipy.stats import shapiro\n",
    "import matplotlib.pyplot as plt"
   ]
  },
  {
   "cell_type": "code",
   "execution_count": 17,
   "id": "16e7bc0a",
   "metadata": {},
   "outputs": [],
   "source": [
    "# Synapse GSK Prod\n",
    "\n",
    "server   = \"lana-sqlserver-prd-01.database.windows.net\"\n",
    "database = 'lana-synapse-prd-01'\n",
    "driver    = '{ODBC Driver 17 for SQL Server}'\n",
    "user = 'lct_9d24f4ccd9e64b7795e67089afbbc70c_prd_01_ro'\n",
    "password = 'L0nx@0621gskro'\n",
    "schema_name   = \"lct_9d24f4ccd9e64b7795e67089afbbc70c_prd_01\"\n",
    "port = '1433'\n",
    "\n",
    "#tenant_url = \"https://ssplctcgauat01.jdadelivers.com\"\n",
    "\n",
    "def call_query(sql_query):\n",
    "    conn = pyodbc.connect('DRIVER='+driver+';SERVER='+server+';PORT=1433;DATABASE='+database+';UID='+user+';PWD='+ password)\n",
    "    cur = conn.cursor()\n",
    "    data = pd.read_sql_query(sql_query,conn)\n",
    "    return data  "
   ]
  },
  {
   "cell_type": "code",
   "execution_count": 20,
   "id": "64e38cf6",
   "metadata": {},
   "outputs": [
    {
     "name": "stdout",
     "output_type": "stream",
     "text": [
      "Wall time: 32.2 s\n"
     ]
    },
    {
     "data": {
      "text/html": [
       "<div>\n",
       "<style scoped>\n",
       "    .dataframe tbody tr th:only-of-type {\n",
       "        vertical-align: middle;\n",
       "    }\n",
       "\n",
       "    .dataframe tbody tr th {\n",
       "        vertical-align: top;\n",
       "    }\n",
       "\n",
       "    .dataframe thead th {\n",
       "        text-align: right;\n",
       "    }\n",
       "</style>\n",
       "<table border=\"1\" class=\"dataframe\">\n",
       "  <thead>\n",
       "    <tr style=\"text-align: right;\">\n",
       "      <th></th>\n",
       "      <th>node_inventory_derived_id</th>\n",
       "      <th>measure_date</th>\n",
       "      <th>pi</th>\n",
       "      <th>on_hand</th>\n",
       "      <th>variance</th>\n",
       "      <th>var_pc</th>\n",
       "    </tr>\n",
       "  </thead>\n",
       "  <tbody>\n",
       "    <tr>\n",
       "      <th>0</th>\n",
       "      <td>8142297137661886803</td>\n",
       "      <td>2021-08-17</td>\n",
       "      <td>115932.0</td>\n",
       "      <td>0.0</td>\n",
       "      <td>-115932.0</td>\n",
       "      <td>-1.000000</td>\n",
       "    </tr>\n",
       "    <tr>\n",
       "      <th>1</th>\n",
       "      <td>-6444109849161613975</td>\n",
       "      <td>2021-11-03</td>\n",
       "      <td>-362.0</td>\n",
       "      <td>0.0</td>\n",
       "      <td>362.0</td>\n",
       "      <td>-1.000000</td>\n",
       "    </tr>\n",
       "    <tr>\n",
       "      <th>2</th>\n",
       "      <td>-4809007790516659147</td>\n",
       "      <td>2021-10-27</td>\n",
       "      <td>-189.0</td>\n",
       "      <td>0.0</td>\n",
       "      <td>189.0</td>\n",
       "      <td>-1.000000</td>\n",
       "    </tr>\n",
       "    <tr>\n",
       "      <th>3</th>\n",
       "      <td>3299270184960105979</td>\n",
       "      <td>2021-08-17</td>\n",
       "      <td>8578.0</td>\n",
       "      <td>0.0</td>\n",
       "      <td>-8578.0</td>\n",
       "      <td>-1.000000</td>\n",
       "    </tr>\n",
       "    <tr>\n",
       "      <th>4</th>\n",
       "      <td>-4493883922221608374</td>\n",
       "      <td>2021-12-07</td>\n",
       "      <td>9814.0</td>\n",
       "      <td>11254.0</td>\n",
       "      <td>1440.0</td>\n",
       "      <td>0.146729</td>\n",
       "    </tr>\n",
       "  </tbody>\n",
       "</table>\n",
       "</div>"
      ],
      "text/plain": [
       "        node_inventory_derived_id measure_date        pi  on_hand  variance  \\\n",
       "0  8142297137661886803              2021-08-17  115932.0      0.0 -115932.0   \n",
       "1  -6444109849161613975             2021-11-03    -362.0      0.0     362.0   \n",
       "2  -4809007790516659147             2021-10-27    -189.0      0.0     189.0   \n",
       "3  3299270184960105979              2021-08-17    8578.0      0.0   -8578.0   \n",
       "4  -4493883922221608374             2021-12-07    9814.0  11254.0    1440.0   \n",
       "\n",
       "     var_pc  \n",
       "0 -1.000000  \n",
       "1 -1.000000  \n",
       "2 -1.000000  \n",
       "3 -1.000000  \n",
       "4  0.146729  "
      ]
     },
     "execution_count": 20,
     "metadata": {},
     "output_type": "execute_result"
    }
   ],
   "source": [
    "%%time\n",
    "\n",
    "### Testing with top 100 nodes based on revenue (sales orders)\n",
    "### Latest version of Projected Inventoryis considered\n",
    "\n",
    "\n",
    "SQL_1= \"\"\"WITH filter_cte (\n",
    "\tderived_id,Revenue\n",
    "\t)\n",
    "AS (\n",
    "\tSELECT TOP (3000) \n",
    "       b.derived_id \n",
    "      ,a.order_quantity * a.unit_price as 'Revenue'\n",
    "  FROM [sales_order_line] a\n",
    "  LEFT JOIN node_inventory b \n",
    "        ON a.supplier_item_name = b.customer_item_name\n",
    "        AND a.ship_from_site_name = b. ship_to_site_name\n",
    "  WHERE a. need_by_date > Dateadd(MONTH, -6, Getdate()) \n",
    "        AND a. need_by_date <= Dateadd(MONTH, 0, Getdate())\n",
    "        AND a. line_status <> 'cancelled'\n",
    "  ORDER BY   (a.order_quantity * a.unit_price) DESC\n",
    "\n",
    " )\n",
    "\t\n",
    "\t,pi_cte (\n",
    "\tnode_inventory_derived_id\n",
    "\t,measure_date\n",
    "\t,pi\n",
    "\t)\n",
    "AS (\n",
    "\tSELECT node_inventory_derived_id\n",
    "\t\t,measure_date\n",
    "\t\t,pi\n",
    "\tFROM (\n",
    "\t\tSELECT cast(node_inventory_derived_id AS CHAR) AS 'node_inventory_derived_id'\n",
    "\t\t\t,quantity AS 'pi'\n",
    "\t\t\t,cast(measure_date AS DATE) AS 'measure_date'\n",
    "\t\t\t,rank() OVER (\n",
    "\t\t\t\tPARTITION BY node_inventory_derived_id\n",
    "\t\t\t\t,measure_date ORDER BY version_date DESC\n",
    "\t\t\t\t) AS rank_\n",
    "\t\tFROM node_inventory_projected_inventory\n",
    "\t\tWHERE node_inventory_derived_id IN (\n",
    "\t\t\t\tSELECT [derived_id]\n",
    "\t\t\t\tFROM filter_cte\n",
    "\t\t\t\t)\n",
    "\t\t\tAND measure_date > Dateadd(MONTH, - 6, Getdate())\n",
    "\t\t\tAND measure_date <= Dateadd(day, 0, Getdate())\n",
    "\t\t) c\n",
    "\tWHERE rank_ = 1\n",
    "\t)\n",
    "\t,oh_cte (\n",
    "\tnode_inventory_derived_id\n",
    "\t,measure_date\n",
    "\t,on_hand\n",
    "\t)\n",
    "AS (\n",
    "\tSELECT node_inventory_derived_id\n",
    "\t\t,measure_date\n",
    "\t\t,on_hand\n",
    "\tFROM (\n",
    "\t\tSELECT cast(node_inventory_derived_id AS CHAR) AS 'node_inventory_derived_id'\n",
    "\t\t\t,sum(quantity) AS 'on_hand'\n",
    "\t\t\t,cast(measure_date AS DATE) AS 'measure_date'\n",
    "\t\tFROM node_inventory_on_hand\n",
    "\t\tWHERE node_inventory_derived_id IN (\n",
    "\t\t\t\tSELECT [derived_id]\n",
    "\t\t\t\tFROM filter_cte\n",
    "\t\t\t\t)\n",
    "\t\t\tAND measure_date > Dateadd(Month, - 6, Getdate())\n",
    "\t\t\tAND measure_date <= Dateadd(day, 0, Getdate())\n",
    "\t\tGROUP BY node_inventory_derived_id\n",
    "\t\t\t,measure_date\n",
    "\t\t) d\n",
    "\t)\n",
    "\t,join1_cte (\n",
    "\tnode_inventory_derived_id\n",
    "\t,measure_date\n",
    "\t,on_hand\n",
    "\t,pi\n",
    "\t)\n",
    "AS (\n",
    "\tSELECT COALESCE(a.node_inventory_derived_id, b.node_inventory_derived_id) AS 'node_inventory_derived_id'\n",
    "\t\t,COALESCE(a.measure_date, b.measure_date) AS measure_date\n",
    "\t\t,a.on_hand\n",
    "\t\t,b.pi\n",
    "\tFROM oh_cte a\n",
    "\tFULL OUTER JOIN pi_cte b ON a.node_inventory_derived_id = b.node_inventory_derived_id\n",
    "\t\tAND a.measure_date = b.measure_date\n",
    "\t)\n",
    "\t,join2_cte (\n",
    "\tnode_inventory_derived_id\n",
    "\t,measure_date\n",
    "\t,pi\n",
    "\t,on_hand\n",
    "\t,variance\n",
    "\t,var_pc    \n",
    "\t)\n",
    "AS (\n",
    "\tSELECT a.node_inventory_derived_id\n",
    "\t\t,a.measure_date\n",
    "\t\t,coalesce(a.[pi],0) as 'pi'\n",
    "\t\t,coalesce(a.on_hand,0) as 'on_hand'\n",
    "\t\t,coalesce(a.on_hand,0) - coalesce(a.[pi],0) as 'variance' \n",
    "\t\t,((coalesce(a.on_hand,0) - coalesce(a.[pi],0))/nullif(coalesce(a.[pi],0),0)) as 'var_pc'  \n",
    "\tFROM join1_cte a\n",
    "\tLEFT JOIN filter_cte b ON a.node_inventory_derived_id = b.derived_id\n",
    "\t)\n",
    "\n",
    "SELECT *\n",
    "FROM join2_cte\n",
    "\"\"\"\n",
    "\n",
    "RawData = call_query(SQL_1)\n",
    "#RawData['url'] = tenant_url + RawData['url'].astype(str)\n",
    "RawData.head()"
   ]
  },
  {
   "cell_type": "code",
   "execution_count": 5,
   "id": "576a3478",
   "metadata": {},
   "outputs": [
    {
     "data": {
      "text/html": [
       "<div>\n",
       "<style scoped>\n",
       "    .dataframe tbody tr th:only-of-type {\n",
       "        vertical-align: middle;\n",
       "    }\n",
       "\n",
       "    .dataframe tbody tr th {\n",
       "        vertical-align: top;\n",
       "    }\n",
       "\n",
       "    .dataframe thead th {\n",
       "        text-align: right;\n",
       "    }\n",
       "</style>\n",
       "<table border=\"1\" class=\"dataframe\">\n",
       "  <thead>\n",
       "    <tr style=\"text-align: right;\">\n",
       "      <th></th>\n",
       "      <th>pi</th>\n",
       "      <th>on_hand</th>\n",
       "      <th>variance</th>\n",
       "    </tr>\n",
       "  </thead>\n",
       "  <tbody>\n",
       "    <tr>\n",
       "      <th>count</th>\n",
       "      <td>5.307630e+05</td>\n",
       "      <td>5.307630e+05</td>\n",
       "      <td>5.307630e+05</td>\n",
       "    </tr>\n",
       "    <tr>\n",
       "      <th>mean</th>\n",
       "      <td>1.843055e+05</td>\n",
       "      <td>1.089034e+05</td>\n",
       "      <td>-7.540214e+04</td>\n",
       "    </tr>\n",
       "    <tr>\n",
       "      <th>std</th>\n",
       "      <td>6.351481e+05</td>\n",
       "      <td>2.450983e+05</td>\n",
       "      <td>5.804233e+05</td>\n",
       "    </tr>\n",
       "    <tr>\n",
       "      <th>min</th>\n",
       "      <td>-2.152308e+06</td>\n",
       "      <td>0.000000e+00</td>\n",
       "      <td>-1.352565e+07</td>\n",
       "    </tr>\n",
       "    <tr>\n",
       "      <th>25%</th>\n",
       "      <td>0.000000e+00</td>\n",
       "      <td>0.000000e+00</td>\n",
       "      <td>-3.288100e+04</td>\n",
       "    </tr>\n",
       "    <tr>\n",
       "      <th>50%</th>\n",
       "      <td>3.353100e+04</td>\n",
       "      <td>6.059000e+03</td>\n",
       "      <td>0.000000e+00</td>\n",
       "    </tr>\n",
       "    <tr>\n",
       "      <th>75%</th>\n",
       "      <td>2.005870e+05</td>\n",
       "      <td>1.089960e+05</td>\n",
       "      <td>1.573600e+04</td>\n",
       "    </tr>\n",
       "    <tr>\n",
       "      <th>max</th>\n",
       "      <td>1.370120e+07</td>\n",
       "      <td>3.998606e+07</td>\n",
       "      <td>4.065580e+07</td>\n",
       "    </tr>\n",
       "  </tbody>\n",
       "</table>\n",
       "</div>"
      ],
      "text/plain": [
       "                 pi       on_hand      variance\n",
       "count  5.307630e+05  5.307630e+05  5.307630e+05\n",
       "mean   1.843055e+05  1.089034e+05 -7.540214e+04\n",
       "std    6.351481e+05  2.450983e+05  5.804233e+05\n",
       "min   -2.152308e+06  0.000000e+00 -1.352565e+07\n",
       "25%    0.000000e+00  0.000000e+00 -3.288100e+04\n",
       "50%    3.353100e+04  6.059000e+03  0.000000e+00\n",
       "75%    2.005870e+05  1.089960e+05  1.573600e+04\n",
       "max    1.370120e+07  3.998606e+07  4.065580e+07"
      ]
     },
     "execution_count": 5,
     "metadata": {},
     "output_type": "execute_result"
    }
   ],
   "source": [
    "RawData.describe()"
   ]
  },
  {
   "cell_type": "markdown",
   "id": "9af5365f",
   "metadata": {},
   "source": [
    "### visualize probability plot"
   ]
  },
  {
   "cell_type": "code",
   "execution_count": 11,
   "id": "9257bf8b",
   "metadata": {},
   "outputs": [
    {
     "data": {
      "image/png": "[encoded data removed]",
      "text/plain": [
       "<Figure size 432x288 with 1 Axes>"
      ]
     },
     "metadata": {
      "needs_background": "light"
     },
     "output_type": "display_data"
    }
   ],
   "source": [
    "counts, start, dx, _ = stats.cumfreq(RawData['variance'], numbins=20)\n",
    "x = np.arange(counts.size) * dx + start\n",
    "\n",
    "plt.plot(x, counts, 'ro')\n",
    "plt.xlabel('Value')\n",
    "plt.ylabel('Cumulative Frequency')\n",
    "\n",
    "plt.show()"
   ]
  },
  {
   "cell_type": "markdown",
   "id": "9d84a796",
   "metadata": {},
   "source": [
    "#### Normality test"
   ]
  },
  {
   "cell_type": "code",
   "execution_count": 14,
   "id": "20aaf00b",
   "metadata": {},
   "outputs": [
    {
     "data": {
      "text/plain": [
       "ShapiroResult(statistic=0.1876734495162964, pvalue=0.0)"
      ]
     },
     "execution_count": 14,
     "metadata": {},
     "output_type": "execute_result"
    }
   ],
   "source": [
    "# The Shapiro-Wilk test is a statistical test used to check if a continuous variable follows a normal distribution. \n",
    "# The null hypothesis (H0) states that the variable is normally distributed, \n",
    "# and the alternative hypothesis (H1) states that the variable is NOT normally distributed.\n",
    "\n",
    "shapiro(RawData['variance'])"
   ]
  },
  {
   "cell_type": "markdown",
   "id": "22896fac",
   "metadata": {},
   "source": [
    "#### Since we had a small sample size, determining the distribution of PI and On_hand was important for choosing appropriate statistical method. So, a Shapiro-Wilk test was performed and did not show evidence of normality (p-value<0.05). For a paired t-test to be valid on this small sample size the population would have to be approximately normal. This is not a robust condition, however. This will be still valid if we increase the sample size . Alternatively, we can run a one-sample Z test on a small sample. For a large sample, both t-test and z-test will yield similar results."
   ]
  },
  {
   "cell_type": "markdown",
   "id": "80841f27",
   "metadata": {},
   "source": [
    "### Hypothesis Testing - Paired Sample T-Test"
   ]
  },
  {
   "cell_type": "code",
   "execution_count": 15,
   "id": "fa8ed37f",
   "metadata": {},
   "outputs": [
    {
     "data": {
      "text/plain": [
       "Ttest_relResult(statistic=94.64313986057178, pvalue=0.0)"
      ]
     },
     "execution_count": 15,
     "metadata": {},
     "output_type": "execute_result"
    }
   ],
   "source": [
    "# Null hypothesis, H0 : there is no difference between PI and On_hand (mean difference between the two is 0)\n",
    "# Alternate hypothesis, H1 : there is difference between PI and On_hand (mean difference between the two is not 0)\n",
    "stats.ttest_rel(RawData['pi'],RawData['on_hand'])"
   ]
  },
  {
   "cell_type": "markdown",
   "id": "99fded4d",
   "metadata": {},
   "source": [
    "#### A paired sample t-test was used to analyze projected inventory computation & on hand inventory to test if they are significantly different.  We reject the null hypothesis since the p-value <0.05. "
   ]
  },
  {
   "cell_type": "markdown",
   "id": "366e9d13",
   "metadata": {},
   "source": [
    "## Tested at 95% confidence level, there is enough evidence to suggest that the difference between PI and On_hand in GSK Production is significant"
   ]
  }
 ],
 "metadata": {
  "kernelspec": {
   "display_name": "Python 3",
   "language": "python",
   "name": "python3"
  },
  "language_info": {
   "codemirror_mode": {
    "name": "ipython",
    "version": 3
   },
   "file_extension": ".py",
   "mimetype": "text/x-python",
   "name": "python",
   "nbconvert_exporter": "python",
   "pygments_lexer": "ipython3",
   "version": "3.8.8"
  }
 },
 "nbformat": 4,
 "nbformat_minor": 5
}
