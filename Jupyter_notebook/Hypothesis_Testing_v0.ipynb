{
 "cells": [
  {
   "cell_type": "code",
   "execution_count": 34,
   "id": "0b79630b",
   "metadata": {},
   "outputs": [],
   "source": [
    "import pyodbc\n",
    "import pandas as pd\n",
    "import numpy as np\n",
    "import scipy.stats as stats\n",
    "from scipy.stats import shapiro"
   ]
  },
  {
   "cell_type": "code",
   "execution_count": 23,
   "id": "16e7bc0a",
   "metadata": {},
   "outputs": [],
   "source": [
    "# Synapse GSK Prod\n",
    "\n",
    "server   = \"lana-sqlserver-prd-01.database.windows.net\"\n",
    "database = 'lana-synapse-prd-01'\n",
    "driver    = '{ODBC Driver 17 for SQL Server}'\n",
    "user = 'lct_9d24f4ccd9e64b7795e67089afbbc70c_prd_01_ro'\n",
    "password = 'L0nx@0621gskro'\n",
    "schema_name   = \"lct_9d24f4ccd9e64b7795e67089afbbc70c_prd_01\"\n",
    "port = '1433'\n",
    "\n",
    "#tenant_url = \"https://ssplctcgauat01.jdadelivers.com\"\n",
    "\n",
    "def call_query(sql_query):\n",
    "    conn = pyodbc.connect('DRIVER='+driver+';SERVER='+server+';PORT=1433;DATABASE='+database+';UID='+user+';PWD='+ password)\n",
    "    cur = conn.cursor()\n",
    "    data = pd.read_sql_query(sql_query,conn)\n",
    "    return data  "
   ]
  },
  {
   "cell_type": "code",
   "execution_count": 29,
   "id": "64e38cf6",
   "metadata": {},
   "outputs": [
    {
     "name": "stdout",
     "output_type": "stream",
     "text": [
      "Wall time: 58.3 s\n"
     ]
    },
    {
     "data": {
      "text/html": [
       "<div>\n",
       "<style scoped>\n",
       "    .dataframe tbody tr th:only-of-type {\n",
       "        vertical-align: middle;\n",
       "    }\n",
       "\n",
       "    .dataframe tbody tr th {\n",
       "        vertical-align: top;\n",
       "    }\n",
       "\n",
       "    .dataframe thead th {\n",
       "        text-align: right;\n",
       "    }\n",
       "</style>\n",
       "<table border=\"1\" class=\"dataframe\">\n",
       "  <thead>\n",
       "    <tr style=\"text-align: right;\">\n",
       "      <th></th>\n",
       "      <th>node_inventory_derived_id</th>\n",
       "      <th>measure_date</th>\n",
       "      <th>pi</th>\n",
       "      <th>on_hand</th>\n",
       "      <th>variance</th>\n",
       "      <th>var_pc</th>\n",
       "    </tr>\n",
       "  </thead>\n",
       "  <tbody>\n",
       "    <tr>\n",
       "      <th>0</th>\n",
       "      <td>8142297137661886803</td>\n",
       "      <td>2021-08-09</td>\n",
       "      <td>147180.0</td>\n",
       "      <td>NaN</td>\n",
       "      <td>NaN</td>\n",
       "      <td>NaN</td>\n",
       "    </tr>\n",
       "    <tr>\n",
       "      <th>1</th>\n",
       "      <td>-6444109849161613975</td>\n",
       "      <td>2021-08-09</td>\n",
       "      <td>-121.0</td>\n",
       "      <td>NaN</td>\n",
       "      <td>NaN</td>\n",
       "      <td>NaN</td>\n",
       "    </tr>\n",
       "    <tr>\n",
       "      <th>2</th>\n",
       "      <td>-4809007790516659147</td>\n",
       "      <td>2021-08-09</td>\n",
       "      <td>0.0</td>\n",
       "      <td>NaN</td>\n",
       "      <td>NaN</td>\n",
       "      <td>NaN</td>\n",
       "    </tr>\n",
       "    <tr>\n",
       "      <th>3</th>\n",
       "      <td>-4208391052639564066</td>\n",
       "      <td>2021-08-13</td>\n",
       "      <td>33300.0</td>\n",
       "      <td>33300.0</td>\n",
       "      <td>0.0</td>\n",
       "      <td>0.0</td>\n",
       "    </tr>\n",
       "    <tr>\n",
       "      <th>4</th>\n",
       "      <td>-4493883922221608374</td>\n",
       "      <td>2021-08-09</td>\n",
       "      <td>40944.0</td>\n",
       "      <td>NaN</td>\n",
       "      <td>NaN</td>\n",
       "      <td>NaN</td>\n",
       "    </tr>\n",
       "  </tbody>\n",
       "</table>\n",
       "</div>"
      ],
      "text/plain": [
       "        node_inventory_derived_id measure_date        pi  on_hand  variance  \\\n",
       "0  8142297137661886803              2021-08-09  147180.0      NaN       NaN   \n",
       "1  -6444109849161613975             2021-08-09    -121.0      NaN       NaN   \n",
       "2  -4809007790516659147             2021-08-09       0.0      NaN       NaN   \n",
       "3  -4208391052639564066             2021-08-13   33300.0  33300.0       0.0   \n",
       "4  -4493883922221608374             2021-08-09   40944.0      NaN       NaN   \n",
       "\n",
       "   var_pc  \n",
       "0     NaN  \n",
       "1     NaN  \n",
       "2     NaN  \n",
       "3     0.0  \n",
       "4     NaN  "
      ]
     },
     "execution_count": 29,
     "metadata": {},
     "output_type": "execute_result"
    }
   ],
   "source": [
    "%%time\n",
    "\n",
    "### Testing with top 100 nodes based on revenue (sales orders)\n",
    "### Latest version of Projected Inventoryis considered\n",
    "\n",
    "\n",
    "SQL_1= \"\"\"WITH filter_cte (\n",
    "\tderived_id,Revenue\n",
    "\t)\n",
    "AS (\n",
    "\tSELECT TOP (3000) \n",
    "       b.derived_id \n",
    "      ,a.order_quantity * a.unit_price as 'Revenue'\n",
    "  FROM [sales_order_line] a\n",
    "  LEFT JOIN node_inventory b \n",
    "        ON a.supplier_item_name = b.customer_item_name\n",
    "        AND a.ship_from_site_name = b. ship_to_site_name\n",
    "  WHERE a. need_by_date > Dateadd(MONTH, -6, Getdate()) \n",
    "        AND a. need_by_date <= Dateadd(MONTH, 0, Getdate())\n",
    "        AND a. line_status <> 'cancelled'\n",
    "  ORDER BY   (a.order_quantity * a.unit_price) DESC\n",
    "\n",
    " )\n",
    "\t\n",
    "\t,pi_cte (\n",
    "\tnode_inventory_derived_id\n",
    "\t,measure_date\n",
    "\t,pi\n",
    "\t)\n",
    "AS (\n",
    "\tSELECT node_inventory_derived_id\n",
    "\t\t,measure_date\n",
    "\t\t,pi\n",
    "\tFROM (\n",
    "\t\tSELECT cast(node_inventory_derived_id AS CHAR) AS 'node_inventory_derived_id'\n",
    "\t\t\t,quantity AS 'pi'\n",
    "\t\t\t,cast(measure_date AS DATE) AS 'measure_date'\n",
    "\t\t\t,rank() OVER (\n",
    "\t\t\t\tPARTITION BY node_inventory_derived_id\n",
    "\t\t\t\t,measure_date ORDER BY version_date DESC\n",
    "\t\t\t\t) AS rank_\n",
    "\t\tFROM node_inventory_projected_inventory\n",
    "\t\tWHERE node_inventory_derived_id IN (\n",
    "\t\t\t\tSELECT [derived_id]\n",
    "\t\t\t\tFROM filter_cte\n",
    "\t\t\t\t)\n",
    "\t\t\tAND measure_date > Dateadd(MONTH, - 6, Getdate())\n",
    "\t\t\tAND measure_date <= Dateadd(day, 0, Getdate())\n",
    "\t\t) c\n",
    "\tWHERE rank_ = 1\n",
    "\t)\n",
    "\t,oh_cte (\n",
    "\tnode_inventory_derived_id\n",
    "\t,measure_date\n",
    "\t,on_hand\n",
    "\t)\n",
    "AS (\n",
    "\tSELECT node_inventory_derived_id\n",
    "\t\t,measure_date\n",
    "\t\t,on_hand\n",
    "\tFROM (\n",
    "\t\tSELECT cast(node_inventory_derived_id AS CHAR) AS 'node_inventory_derived_id'\n",
    "\t\t\t,sum(quantity) AS 'on_hand'\n",
    "\t\t\t,cast(measure_date AS DATE) AS 'measure_date'\n",
    "\t\tFROM node_inventory_on_hand\n",
    "\t\tWHERE node_inventory_derived_id IN (\n",
    "\t\t\t\tSELECT [derived_id]\n",
    "\t\t\t\tFROM filter_cte\n",
    "\t\t\t\t)\n",
    "\t\t\tAND measure_date > Dateadd(Month, - 6, Getdate())\n",
    "\t\t\tAND measure_date <= Dateadd(day, 0, Getdate())\n",
    "\t\tGROUP BY node_inventory_derived_id\n",
    "\t\t\t,measure_date\n",
    "\t\t) d\n",
    "\t)\n",
    "\t,join1_cte (\n",
    "\tnode_inventory_derived_id\n",
    "\t,measure_date\n",
    "\t,on_hand\n",
    "\t,pi\n",
    "\t)\n",
    "AS (\n",
    "\tSELECT COALESCE(a.node_inventory_derived_id, b.node_inventory_derived_id) AS 'node_inventory_derived_id'\n",
    "\t\t,COALESCE(a.measure_date, b.measure_date) AS measure_date\n",
    "\t\t,a.on_hand\n",
    "\t\t,b.pi\n",
    "\tFROM oh_cte a\n",
    "\tFULL OUTER JOIN pi_cte b ON a.node_inventory_derived_id = b.node_inventory_derived_id\n",
    "\t\tAND a.measure_date = b.measure_date\n",
    "\t)\n",
    "\t,join2_cte (\n",
    "\tnode_inventory_derived_id\n",
    "\t,measure_date\n",
    "\t,pi\n",
    "\t,on_hand\n",
    "\t,variance\n",
    "\t,var_pc\n",
    "\t)\n",
    "AS (\n",
    "\tSELECT a.node_inventory_derived_id\n",
    "\t\t,a.measure_date\n",
    "\t\t,a.[pi]\n",
    "\t\t,a.on_hand\n",
    "\t\t,(a.on_hand - a.pi) AS 'variance'\n",
    "\t\t,abs(a.on_hand - a.pi) / nullif(a.pi, 0) AS 'var_pc'\n",
    "\tFROM join1_cte a\n",
    "\tLEFT JOIN filter_cte b ON a.node_inventory_derived_id = b.derived_id\n",
    "\t)\n",
    "\n",
    "SELECT *\n",
    "FROM join2_cte\n",
    "\"\"\"\n",
    "\n",
    "RawData = call_query(SQL_1)\n",
    "#RawData['url'] = tenant_url + RawData['url'].astype(str)\n",
    "RawData.head()"
   ]
  },
  {
   "cell_type": "code",
   "execution_count": 30,
   "id": "576a3478",
   "metadata": {},
   "outputs": [
    {
     "data": {
      "text/html": [
       "<div>\n",
       "<style scoped>\n",
       "    .dataframe tbody tr th:only-of-type {\n",
       "        vertical-align: middle;\n",
       "    }\n",
       "\n",
       "    .dataframe tbody tr th {\n",
       "        vertical-align: top;\n",
       "    }\n",
       "\n",
       "    .dataframe thead th {\n",
       "        text-align: right;\n",
       "    }\n",
       "</style>\n",
       "<table border=\"1\" class=\"dataframe\">\n",
       "  <thead>\n",
       "    <tr style=\"text-align: right;\">\n",
       "      <th></th>\n",
       "      <th>pi</th>\n",
       "      <th>on_hand</th>\n",
       "      <th>variance</th>\n",
       "      <th>var_pc</th>\n",
       "    </tr>\n",
       "  </thead>\n",
       "  <tbody>\n",
       "    <tr>\n",
       "      <th>count</th>\n",
       "      <td>5.304800e+05</td>\n",
       "      <td>3.344240e+05</td>\n",
       "      <td>3.341480e+05</td>\n",
       "      <td>331689.000000</td>\n",
       "    </tr>\n",
       "    <tr>\n",
       "      <th>mean</th>\n",
       "      <td>1.991722e+05</td>\n",
       "      <td>2.110421e+05</td>\n",
       "      <td>-2.852503e+04</td>\n",
       "      <td>0.213767</td>\n",
       "    </tr>\n",
       "    <tr>\n",
       "      <th>std</th>\n",
       "      <td>6.375360e+05</td>\n",
       "      <td>5.386656e+05</td>\n",
       "      <td>7.764084e+05</td>\n",
       "      <td>45.089821</td>\n",
       "    </tr>\n",
       "    <tr>\n",
       "      <th>min</th>\n",
       "      <td>-2.152308e+06</td>\n",
       "      <td>0.000000e+00</td>\n",
       "      <td>-1.300305e+07</td>\n",
       "      <td>-3962.821429</td>\n",
       "    </tr>\n",
       "    <tr>\n",
       "      <th>25%</th>\n",
       "      <td>0.000000e+00</td>\n",
       "      <td>1.192600e+04</td>\n",
       "      <td>-5.943000e+03</td>\n",
       "      <td>0.000000</td>\n",
       "    </tr>\n",
       "    <tr>\n",
       "      <th>50%</th>\n",
       "      <td>4.013700e+04</td>\n",
       "      <td>7.702000e+04</td>\n",
       "      <td>3.121000e+03</td>\n",
       "      <td>0.150793</td>\n",
       "    </tr>\n",
       "    <tr>\n",
       "      <th>75%</th>\n",
       "      <td>2.228150e+05</td>\n",
       "      <td>2.644200e+05</td>\n",
       "      <td>3.175200e+04</td>\n",
       "      <td>0.486903</td>\n",
       "    </tr>\n",
       "    <tr>\n",
       "      <th>max</th>\n",
       "      <td>1.370120e+07</td>\n",
       "      <td>3.998606e+07</td>\n",
       "      <td>4.065580e+07</td>\n",
       "      <td>5547.950000</td>\n",
       "    </tr>\n",
       "  </tbody>\n",
       "</table>\n",
       "</div>"
      ],
      "text/plain": [
       "                 pi       on_hand      variance         var_pc\n",
       "count  5.304800e+05  3.344240e+05  3.341480e+05  331689.000000\n",
       "mean   1.991722e+05  2.110421e+05 -2.852503e+04       0.213767\n",
       "std    6.375360e+05  5.386656e+05  7.764084e+05      45.089821\n",
       "min   -2.152308e+06  0.000000e+00 -1.300305e+07   -3962.821429\n",
       "25%    0.000000e+00  1.192600e+04 -5.943000e+03       0.000000\n",
       "50%    4.013700e+04  7.702000e+04  3.121000e+03       0.150793\n",
       "75%    2.228150e+05  2.644200e+05  3.175200e+04       0.486903\n",
       "max    1.370120e+07  3.998606e+07  4.065580e+07    5547.950000"
      ]
     },
     "execution_count": 30,
     "metadata": {},
     "output_type": "execute_result"
    }
   ],
   "source": [
    "RawData.describe()"
   ]
  },
  {
   "cell_type": "markdown",
   "id": "9d84a796",
   "metadata": {},
   "source": [
    "#### Normality test"
   ]
  },
  {
   "cell_type": "code",
   "execution_count": 37,
   "id": "20aaf00b",
   "metadata": {},
   "outputs": [
    {
     "data": {
      "text/plain": [
       "ShapiroResult(statistic=nan, pvalue=1.0)"
      ]
     },
     "execution_count": 37,
     "metadata": {},
     "output_type": "execute_result"
    }
   ],
   "source": [
    "# The Shapiro-Wilk test is a statistical test used to check if a continuous variable follows a normal distribution. \n",
    "# The null hypothesis (H0) states that the variable is normally distributed, \n",
    "# and the alternative hypothesis (H1) states that the variable is NOT normally distributed.\n",
    "\n",
    "#stats.shapiro(RawData['pi'])\n",
    "shapiro(RawData['pi'])"
   ]
  },
  {
   "cell_type": "code",
   "execution_count": 38,
   "id": "c17dd970",
   "metadata": {},
   "outputs": [
    {
     "data": {
      "text/plain": [
       "ShapiroResult(statistic=nan, pvalue=1.0)"
      ]
     },
     "execution_count": 38,
     "metadata": {},
     "output_type": "execute_result"
    }
   ],
   "source": [
    "# test normality via shapiro\n",
    "#stats.shapiro(RawData['on_hand'])\n",
    "shapiro(RawData['on_hand'])"
   ]
  },
  {
   "attachments": {},
   "cell_type": "markdown",
   "id": "22896fac",
   "metadata": {},
   "source": [
    "#### Since we had a small sample size, determining the distribution of PI and On_hand was important for choosing appropriate statistical method. So, a Shapiro-Wilk test was performed and did not show evidence of non-normality (p-value>0.05). Based on this outcome, we decided to perform a Paired T-Test for hypothesis testing. This test allows us to evaluate differences between samples of the same group at different points in time, in this case, projected inventory (pi) and on_hand."
   ]
  },
  {
   "cell_type": "markdown",
   "id": "80841f27",
   "metadata": {},
   "source": [
    "### Hypothesis Testing - Paired Sample T-Test\n",
    "##### Null hypothesis, H0 : there is no difference between PI and On_hand (mean difference between the two is 0)\n",
    "#####  Alternate hypothesis, H1 : there is difference between PI and On_hand (mean difference between the two is not 0)"
   ]
  },
  {
   "cell_type": "code",
   "execution_count": 39,
   "id": "fa8ed37f",
   "metadata": {},
   "outputs": [
    {
     "data": {
      "text/plain": [
       "Ttest_relResult(statistic=21.237594500946948, pvalue=5.001660851720675e-100)"
      ]
     },
     "execution_count": 39,
     "metadata": {},
     "output_type": "execute_result"
    }
   ],
   "source": [
    "stats.ttest_rel(RawData['pi'],RawData['on_hand'],nan_policy = 'omit')"
   ]
  },
  {
   "cell_type": "markdown",
   "id": "99fded4d",
   "metadata": {},
   "source": [
    "#### A paired sample t-test was used to analyze projected inventory computation & on hand inventory to test if they are significantly different. The projected inventory computation was higher (199,172 +-637,537 units) compared to actual on_hand inventory (211,042 +-538,666); the findings are not statistical significant, rejecting null hypothesis."
   ]
  },
  {
   "cell_type": "markdown",
   "id": "366e9d13",
   "metadata": {},
   "source": [
    "#### There is difference between PI and On_hand in GSK Production"
   ]
  }
 ],
 "metadata": {
  "kernelspec": {
   "display_name": "Python 3",
   "language": "python",
   "name": "python3"
  },
  "language_info": {
   "codemirror_mode": {
    "name": "ipython",
    "version": 3
   },
   "file_extension": ".py",
   "mimetype": "text/x-python",
   "name": "python",
   "nbconvert_exporter": "python",
   "pygments_lexer": "ipython3",
   "version": "3.8.8"
  }
 },
 "nbformat": 4,
 "nbformat_minor": 5
}
